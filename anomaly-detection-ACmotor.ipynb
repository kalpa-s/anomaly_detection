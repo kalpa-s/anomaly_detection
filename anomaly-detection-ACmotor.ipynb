{
 "cells": [
  {
   "cell_type": "markdown",
   "id": "440ed2be",
   "metadata": {},
   "source": [
    "## Problem Statement"
   ]
  },
  {
   "cell_type": "markdown",
   "id": "5261913b",
   "metadata": {},
   "source": [
    "To create a Machine Learning model to detect anomalies in a dataset consisting real time current readings of a 3-phase AC motor (3.2 hp)"
   ]
  },
  {
   "cell_type": "markdown",
   "id": "56284739",
   "metadata": {},
   "source": [
    "#### Approach taken to solve this problem:<br>\n",
    "<li>The datasets are in 6 files. So combine it into a single source. </li>\n",
    "<li><b>Data Analysis</b> and <b>Data Visualizations</b> to understand the pattern and distribution of data </li>\n",
    "<li>Necessary data pre-processing steps to make the data ready for modeling </li>\n",
    "<li>As there are no target labels, this is an <b>Unsupervised machine learning</b> problem.</li>\n",
    "<li>Fit the data to <b>KMeans Clustering </b>algorithm and split the data into 2 clusters. </li>\n",
    "<li>The cluster value can be stored as a target column and now our problem becomes a <b>Classification type</b>. </li>\n",
    "<li>Now, use the whole dataset along with target column to train and build a classification model (<b>Random Forest Classifier</b>)</li>\n",
    "<li>Model is saved to a pickle file so that it can be imported and reused with any values. </li>"
   ]
  },
  {
   "cell_type": "markdown",
   "id": "597b7efe",
   "metadata": {},
   "source": [
    "The steps involved in this task:\n",
    "1. Loading the tools\n",
    "2. Loading the dataset\n",
    "3. Exploratory Data Analysis (EDA)\n",
    "4. Feature scaling\n",
    "5. Model Building- KMeans Clustering algorithm\n",
    "6. Model Evaluation\n",
    "7. Save the model to a pickle file"
   ]
  },
  {
   "cell_type": "markdown",
   "id": "23f33396",
   "metadata": {},
   "source": [
    "## 1. Loading the tools"
   ]
  },
  {
   "cell_type": "code",
   "execution_count": 1,
   "id": "a39ada65",
   "metadata": {},
   "outputs": [],
   "source": [
    "import pandas as pd\n",
    "import numpy as np\n",
    "import matplotlib.pyplot as plt\n",
    "import seaborn as sns\n",
    "\n",
    "from sklearn.cluster import KMeans\n",
    "from sklearn.preprocessing import StandardScaler"
   ]
  },
  {
   "cell_type": "markdown",
   "id": "74690618",
   "metadata": {},
   "source": [
    "The data is spread across 6 different files. Combining all 6 files to a single file"
   ]
  },
  {
   "cell_type": "code",
   "execution_count": 2,
   "id": "63753061",
   "metadata": {},
   "outputs": [
    {
     "data": {
      "text/plain": [
       "['.ipynb_checkpoints',\n",
       " 'anomaly-detection-ACmotor.ipynb',\n",
       " 'dataset',\n",
       " 'predictions']"
      ]
     },
     "execution_count": 2,
     "metadata": {},
     "output_type": "execute_result"
    }
   ],
   "source": [
    "import os\n",
    "os.listdir()"
   ]
  },
  {
   "cell_type": "code",
   "execution_count": 3,
   "id": "a885fbc8",
   "metadata": {},
   "outputs": [
    {
     "data": {
      "text/plain": [
       "['data0 (1).txt',\n",
       " 'data109.txt',\n",
       " 'data112.txt',\n",
       " 'data88.txt',\n",
       " 'data89.txt',\n",
       " 'data9.txt']"
      ]
     },
     "execution_count": 3,
     "metadata": {},
     "output_type": "execute_result"
    }
   ],
   "source": [
    "os.chdir(\"dataset\")\n",
    "os.listdir()"
   ]
  },
  {
   "cell_type": "code",
   "execution_count": 4,
   "id": "7ce8700a",
   "metadata": {},
   "outputs": [
    {
     "data": {
      "text/plain": [
       "['data0 (1).txt',\n",
       " 'data109.txt',\n",
       " 'data112.txt',\n",
       " 'data88.txt',\n",
       " 'data89.txt',\n",
       " 'data9.txt']"
      ]
     },
     "execution_count": 4,
     "metadata": {},
     "output_type": "execute_result"
    }
   ],
   "source": [
    "files = [file for file in os.listdir()]\n",
    "files"
   ]
  },
  {
   "cell_type": "code",
   "execution_count": 5,
   "id": "a7e7b415",
   "metadata": {},
   "outputs": [],
   "source": [
    "files_df = pd.concat(map(pd.read_csv, files), ignore_index=True)\n",
    "files_df.to_csv(\"files.csv\")"
   ]
  },
  {
   "cell_type": "markdown",
   "id": "99b8930a",
   "metadata": {},
   "source": [
    "## 2. Loading the dataset"
   ]
  },
  {
   "cell_type": "code",
   "execution_count": 6,
   "id": "598b3c48",
   "metadata": {},
   "outputs": [
    {
     "data": {
      "text/html": [
       "<div>\n",
       "<style scoped>\n",
       "    .dataframe tbody tr th:only-of-type {\n",
       "        vertical-align: middle;\n",
       "    }\n",
       "\n",
       "    .dataframe tbody tr th {\n",
       "        vertical-align: top;\n",
       "    }\n",
       "\n",
       "    .dataframe thead th {\n",
       "        text-align: right;\n",
       "    }\n",
       "</style>\n",
       "<table border=\"1\" class=\"dataframe\">\n",
       "  <thead>\n",
       "    <tr style=\"text-align: right;\">\n",
       "      <th></th>\n",
       "      <th>values</th>\n",
       "    </tr>\n",
       "  </thead>\n",
       "  <tbody>\n",
       "    <tr>\n",
       "      <th>0</th>\n",
       "      <td>Unnamed: 0</td>\n",
       "    </tr>\n",
       "    <tr>\n",
       "      <th>1</th>\n",
       "      <td>0</td>\n",
       "    </tr>\n",
       "    <tr>\n",
       "      <th>2</th>\n",
       "      <td>0.1</td>\n",
       "    </tr>\n",
       "    <tr>\n",
       "      <th>3</th>\n",
       "      <td>0.2</td>\n",
       "    </tr>\n",
       "    <tr>\n",
       "      <th>4</th>\n",
       "      <td>0.3</td>\n",
       "    </tr>\n",
       "    <tr>\n",
       "      <th>...</th>\n",
       "      <td>...</td>\n",
       "    </tr>\n",
       "    <tr>\n",
       "      <th>13590</th>\n",
       "      <td>120.2065</td>\n",
       "    </tr>\n",
       "    <tr>\n",
       "      <th>13591</th>\n",
       "      <td>248.1193</td>\n",
       "    </tr>\n",
       "    <tr>\n",
       "      <th>13592</th>\n",
       "      <td>120.2066</td>\n",
       "    </tr>\n",
       "    <tr>\n",
       "      <th>13593</th>\n",
       "      <td>248.1194</td>\n",
       "    </tr>\n",
       "    <tr>\n",
       "      <th>13594</th>\n",
       "      <td>248.1195</td>\n",
       "    </tr>\n",
       "  </tbody>\n",
       "</table>\n",
       "<p>13595 rows × 1 columns</p>\n",
       "</div>"
      ],
      "text/plain": [
       "           values\n",
       "0      Unnamed: 0\n",
       "1               0\n",
       "2             0.1\n",
       "3             0.2\n",
       "4             0.3\n",
       "...           ...\n",
       "13590    120.2065\n",
       "13591    248.1193\n",
       "13592    120.2066\n",
       "13593    248.1194\n",
       "13594    248.1195\n",
       "\n",
       "[13595 rows x 1 columns]"
      ]
     },
     "execution_count": 6,
     "metadata": {},
     "output_type": "execute_result"
    }
   ],
   "source": [
    "df=pd.read_csv(\"files.csv\").T\n",
    "df.reset_index(inplace=True)\n",
    "df.columns.values[0] = \"values\"\n",
    "df"
   ]
  },
  {
   "cell_type": "code",
   "execution_count": 7,
   "id": "a0ca380d",
   "metadata": {},
   "outputs": [
    {
     "data": {
      "text/plain": [
       "2"
      ]
     },
     "execution_count": 7,
     "metadata": {},
     "output_type": "execute_result"
    }
   ],
   "source": [
    "df['values'].str.contains('Unnamed').sum()"
   ]
  },
  {
   "cell_type": "markdown",
   "id": "12f3caeb",
   "metadata": {},
   "source": [
    "As there is no text (i.e. column name) before the first comma on the first line of the csv file, Unnamed is displayed. So we have to get rid of unnamed."
   ]
  },
  {
   "cell_type": "code",
   "execution_count": 8,
   "id": "70cd7ec9",
   "metadata": {},
   "outputs": [
    {
     "data": {
      "text/html": [
       "<div>\n",
       "<style scoped>\n",
       "    .dataframe tbody tr th:only-of-type {\n",
       "        vertical-align: middle;\n",
       "    }\n",
       "\n",
       "    .dataframe tbody tr th {\n",
       "        vertical-align: top;\n",
       "    }\n",
       "\n",
       "    .dataframe thead th {\n",
       "        text-align: right;\n",
       "    }\n",
       "</style>\n",
       "<table border=\"1\" class=\"dataframe\">\n",
       "  <thead>\n",
       "    <tr style=\"text-align: right;\">\n",
       "      <th></th>\n",
       "      <th>values</th>\n",
       "      <th>current_readings</th>\n",
       "    </tr>\n",
       "  </thead>\n",
       "  <tbody>\n",
       "    <tr>\n",
       "      <th>0</th>\n",
       "      <td>Unnamed: 0</td>\n",
       "      <td>Unnamed</td>\n",
       "    </tr>\n",
       "    <tr>\n",
       "      <th>1</th>\n",
       "      <td>0</td>\n",
       "      <td>0</td>\n",
       "    </tr>\n",
       "    <tr>\n",
       "      <th>2</th>\n",
       "      <td>0.1</td>\n",
       "      <td>0.1</td>\n",
       "    </tr>\n",
       "    <tr>\n",
       "      <th>3</th>\n",
       "      <td>0.2</td>\n",
       "      <td>0.2</td>\n",
       "    </tr>\n",
       "    <tr>\n",
       "      <th>4</th>\n",
       "      <td>0.3</td>\n",
       "      <td>0.3</td>\n",
       "    </tr>\n",
       "    <tr>\n",
       "      <th>...</th>\n",
       "      <td>...</td>\n",
       "      <td>...</td>\n",
       "    </tr>\n",
       "    <tr>\n",
       "      <th>13590</th>\n",
       "      <td>120.2065</td>\n",
       "      <td>120.2065</td>\n",
       "    </tr>\n",
       "    <tr>\n",
       "      <th>13591</th>\n",
       "      <td>248.1193</td>\n",
       "      <td>248.1193</td>\n",
       "    </tr>\n",
       "    <tr>\n",
       "      <th>13592</th>\n",
       "      <td>120.2066</td>\n",
       "      <td>120.2066</td>\n",
       "    </tr>\n",
       "    <tr>\n",
       "      <th>13593</th>\n",
       "      <td>248.1194</td>\n",
       "      <td>248.1194</td>\n",
       "    </tr>\n",
       "    <tr>\n",
       "      <th>13594</th>\n",
       "      <td>248.1195</td>\n",
       "      <td>248.1195</td>\n",
       "    </tr>\n",
       "  </tbody>\n",
       "</table>\n",
       "<p>13595 rows × 2 columns</p>\n",
       "</div>"
      ],
      "text/plain": [
       "           values current_readings\n",
       "0      Unnamed: 0          Unnamed\n",
       "1               0                0\n",
       "2             0.1              0.1\n",
       "3             0.2              0.2\n",
       "4             0.3              0.3\n",
       "...           ...              ...\n",
       "13590    120.2065         120.2065\n",
       "13591    248.1193         248.1193\n",
       "13592    120.2066         120.2066\n",
       "13593    248.1194         248.1194\n",
       "13594    248.1195         248.1195\n",
       "\n",
       "[13595 rows x 2 columns]"
      ]
     },
     "execution_count": 8,
     "metadata": {},
     "output_type": "execute_result"
    }
   ],
   "source": [
    "\n",
    "df[\"current_readings\"] = df[\"values\"].str.split(\": \").str[0]\n",
    "df"
   ]
  },
  {
   "cell_type": "code",
   "execution_count": 9,
   "id": "7ee2d74c",
   "metadata": {},
   "outputs": [
    {
     "data": {
      "text/plain": [
       "Int64Index([0, 10001], dtype='int64')"
      ]
     },
     "execution_count": 9,
     "metadata": {},
     "output_type": "execute_result"
    }
   ],
   "source": [
    "txt=df[df[\"current_readings\"] == 'Unnamed'].index\n",
    "txt"
   ]
  },
  {
   "cell_type": "code",
   "execution_count": 10,
   "id": "40cc8fc7",
   "metadata": {},
   "outputs": [
    {
     "data": {
      "text/html": [
       "<div>\n",
       "<style scoped>\n",
       "    .dataframe tbody tr th:only-of-type {\n",
       "        vertical-align: middle;\n",
       "    }\n",
       "\n",
       "    .dataframe tbody tr th {\n",
       "        vertical-align: top;\n",
       "    }\n",
       "\n",
       "    .dataframe thead th {\n",
       "        text-align: right;\n",
       "    }\n",
       "</style>\n",
       "<table border=\"1\" class=\"dataframe\">\n",
       "  <thead>\n",
       "    <tr style=\"text-align: right;\">\n",
       "      <th></th>\n",
       "      <th>current_readings</th>\n",
       "    </tr>\n",
       "  </thead>\n",
       "  <tbody>\n",
       "    <tr>\n",
       "      <th>1</th>\n",
       "      <td>0</td>\n",
       "    </tr>\n",
       "    <tr>\n",
       "      <th>2</th>\n",
       "      <td>0.1</td>\n",
       "    </tr>\n",
       "    <tr>\n",
       "      <th>3</th>\n",
       "      <td>0.2</td>\n",
       "    </tr>\n",
       "    <tr>\n",
       "      <th>4</th>\n",
       "      <td>0.3</td>\n",
       "    </tr>\n",
       "    <tr>\n",
       "      <th>5</th>\n",
       "      <td>0.4</td>\n",
       "    </tr>\n",
       "    <tr>\n",
       "      <th>...</th>\n",
       "      <td>...</td>\n",
       "    </tr>\n",
       "    <tr>\n",
       "      <th>13590</th>\n",
       "      <td>120.2065</td>\n",
       "    </tr>\n",
       "    <tr>\n",
       "      <th>13591</th>\n",
       "      <td>248.1193</td>\n",
       "    </tr>\n",
       "    <tr>\n",
       "      <th>13592</th>\n",
       "      <td>120.2066</td>\n",
       "    </tr>\n",
       "    <tr>\n",
       "      <th>13593</th>\n",
       "      <td>248.1194</td>\n",
       "    </tr>\n",
       "    <tr>\n",
       "      <th>13594</th>\n",
       "      <td>248.1195</td>\n",
       "    </tr>\n",
       "  </tbody>\n",
       "</table>\n",
       "<p>13593 rows × 1 columns</p>\n",
       "</div>"
      ],
      "text/plain": [
       "      current_readings\n",
       "1                    0\n",
       "2                  0.1\n",
       "3                  0.2\n",
       "4                  0.3\n",
       "5                  0.4\n",
       "...                ...\n",
       "13590         120.2065\n",
       "13591         248.1193\n",
       "13592         120.2066\n",
       "13593         248.1194\n",
       "13594         248.1195\n",
       "\n",
       "[13593 rows x 1 columns]"
      ]
     },
     "execution_count": 10,
     "metadata": {},
     "output_type": "execute_result"
    }
   ],
   "source": [
    "df.drop(txt,inplace=True)\n",
    "df.drop(\"values\",axis=1,inplace=True)\n",
    "df"
   ]
  },
  {
   "cell_type": "code",
   "execution_count": 11,
   "id": "2b540d3b",
   "metadata": {},
   "outputs": [
    {
     "data": {
      "text/plain": [
       "0"
      ]
     },
     "execution_count": 11,
     "metadata": {},
     "output_type": "execute_result"
    }
   ],
   "source": [
    "df['current_readings'].str.contains('Unnamed').sum()"
   ]
  },
  {
   "cell_type": "code",
   "execution_count": 12,
   "id": "a23f6693",
   "metadata": {},
   "outputs": [
    {
     "name": "stdout",
     "output_type": "stream",
     "text": [
      "<class 'pandas.core.frame.DataFrame'>\n",
      "Int64Index: 13593 entries, 1 to 13594\n",
      "Data columns (total 1 columns):\n",
      " #   Column            Non-Null Count  Dtype \n",
      "---  ------            --------------  ----- \n",
      " 0   current_readings  13593 non-null  object\n",
      "dtypes: object(1)\n",
      "memory usage: 212.4+ KB\n"
     ]
    }
   ],
   "source": [
    "df.info()"
   ]
  },
  {
   "cell_type": "code",
   "execution_count": 13,
   "id": "a392eda3",
   "metadata": {},
   "outputs": [],
   "source": [
    "df[\"current_readings\"] = df[\"current_readings\"].astype(float)"
   ]
  },
  {
   "cell_type": "code",
   "execution_count": 14,
   "id": "5a2994a1",
   "metadata": {},
   "outputs": [
    {
     "data": {
      "text/plain": [
       "current_readings    float64\n",
       "dtype: object"
      ]
     },
     "execution_count": 14,
     "metadata": {},
     "output_type": "execute_result"
    }
   ],
   "source": [
    "df.dtypes"
   ]
  },
  {
   "cell_type": "markdown",
   "id": "63b7d0f7",
   "metadata": {},
   "source": [
    "## 3. Exploratory Data Analysis"
   ]
  },
  {
   "cell_type": "code",
   "execution_count": 15,
   "id": "2ba3b580",
   "metadata": {},
   "outputs": [
    {
     "data": {
      "text/html": [
       "<div>\n",
       "<style scoped>\n",
       "    .dataframe tbody tr th:only-of-type {\n",
       "        vertical-align: middle;\n",
       "    }\n",
       "\n",
       "    .dataframe tbody tr th {\n",
       "        vertical-align: top;\n",
       "    }\n",
       "\n",
       "    .dataframe thead th {\n",
       "        text-align: right;\n",
       "    }\n",
       "</style>\n",
       "<table border=\"1\" class=\"dataframe\">\n",
       "  <thead>\n",
       "    <tr style=\"text-align: right;\">\n",
       "      <th></th>\n",
       "      <th>current_readings</th>\n",
       "    </tr>\n",
       "  </thead>\n",
       "  <tbody>\n",
       "    <tr>\n",
       "      <th>count</th>\n",
       "      <td>13593.000000</td>\n",
       "    </tr>\n",
       "    <tr>\n",
       "      <th>mean</th>\n",
       "      <td>52.371722</td>\n",
       "    </tr>\n",
       "    <tr>\n",
       "      <th>std</th>\n",
       "      <td>80.108110</td>\n",
       "    </tr>\n",
       "    <tr>\n",
       "      <th>min</th>\n",
       "      <td>0.000000</td>\n",
       "    </tr>\n",
       "    <tr>\n",
       "      <th>25%</th>\n",
       "      <td>0.405600</td>\n",
       "    </tr>\n",
       "    <tr>\n",
       "      <th>50%</th>\n",
       "      <td>0.711400</td>\n",
       "    </tr>\n",
       "    <tr>\n",
       "      <th>75%</th>\n",
       "      <td>120.200500</td>\n",
       "    </tr>\n",
       "    <tr>\n",
       "      <th>max</th>\n",
       "      <td>248.999000</td>\n",
       "    </tr>\n",
       "  </tbody>\n",
       "</table>\n",
       "</div>"
      ],
      "text/plain": [
       "       current_readings\n",
       "count      13593.000000\n",
       "mean          52.371722\n",
       "std           80.108110\n",
       "min            0.000000\n",
       "25%            0.405600\n",
       "50%            0.711400\n",
       "75%          120.200500\n",
       "max          248.999000"
      ]
     },
     "execution_count": 15,
     "metadata": {},
     "output_type": "execute_result"
    }
   ],
   "source": [
    "df.describe()"
   ]
  },
  {
   "cell_type": "markdown",
   "id": "dfc01c87",
   "metadata": {},
   "source": [
    "<li>Mean = 52.37</li>\n",
    "<li>Median = 0.71</li>\n",
    "<li> SD = 80.10</li>"
   ]
  },
  {
   "cell_type": "markdown",
   "id": "f9802756",
   "metadata": {},
   "source": [
    "Findings:\n",
    "<li> There is very gradual increase in values till the Q2 value (Median).</li>\n",
    "<li> Values in the Third Quartile suddenly increases and there is a wide dispersion</li>\n",
    "    "
   ]
  },
  {
   "cell_type": "markdown",
   "id": "9f35759e",
   "metadata": {},
   "source": [
    "### Line graph"
   ]
  },
  {
   "cell_type": "code",
   "execution_count": 16,
   "id": "ac632950",
   "metadata": {},
   "outputs": [
    {
     "data": {
      "text/plain": [
       "Text(0.5, 1.0, 'Current readings')"
      ]
     },
     "execution_count": 16,
     "metadata": {},
     "output_type": "execute_result"
    },
    {
     "data": {
      "text/plain": [
       "<Figure size 1800x1200 with 0 Axes>"
      ]
     },
     "metadata": {},
     "output_type": "display_data"
    },
    {
     "data": {
      "image/png": "[encoded data removed]",
      "text/plain": [
       "<Figure size 432x288 with 1 Axes>"
      ]
     },
     "metadata": {
      "needs_background": "light"
     },
     "output_type": "display_data"
    }
   ],
   "source": [
    "# Visualizing only the first 500 values to view it clearly\n",
    "plt.figure(dpi=300)\n",
    "\n",
    "df[:500].plot()\n",
    "plt.xlabel(\"Current Readings\")\n",
    "plt.ylabel(\"count\")\n",
    "plt.title(\"Current readings\")"
   ]
  },
  {
   "cell_type": "markdown",
   "id": "63230f6a",
   "metadata": {},
   "source": [
    "### Box Plot\n"
   ]
  },
  {
   "cell_type": "code",
   "execution_count": 17,
   "id": "2954bfe8",
   "metadata": {},
   "outputs": [
    {
     "data": {
      "text/plain": [
       "Text(0.5, 1.0, 'Box plot')"
      ]
     },
     "execution_count": 17,
     "metadata": {},
     "output_type": "execute_result"
    },
    {
     "data": {
      "text/plain": [
       "<Figure size 1800x1200 with 0 Axes>"
      ]
     },
     "metadata": {},
     "output_type": "display_data"
    },
    {
     "data": {
      "image/png": "[encoded data removed]",
      "text/plain": [
       "<Figure size 720x576 with 1 Axes>"
      ]
     },
     "metadata": {
      "needs_background": "light"
     },
     "output_type": "display_data"
    }
   ],
   "source": [
    "# box plot\n",
    "plt.figure(dpi=300)\n",
    "plt.figure(figsize=(10,8))\n",
    "sns.boxplot(data=df,x='current_readings');\n",
    "plt.title('Box plot', fontsize = 12)"
   ]
  },
  {
   "cell_type": "markdown",
   "id": "841f1593",
   "metadata": {},
   "source": [
    "## Histogram"
   ]
  },
  {
   "cell_type": "code",
   "execution_count": 18,
   "id": "62989ad7",
   "metadata": {},
   "outputs": [
    {
     "data": {
      "image/png": "[encoded data removed]",
      "text/plain": [
       "<Figure size 432x288 with 1 Axes>"
      ]
     },
     "metadata": {
      "needs_background": "light"
     },
     "output_type": "display_data"
    }
   ],
   "source": [
    "bins=np.arange(0,400,100)\n",
    "plt.hist(df[\"current_readings\"],bins,facecolor=\"red\",edgecolor=\"yellow\",alpha=0.5);\n",
    "plt.xticks(bins)\n",
    "plt.title(\"Current readings distribution\")\n",
    "plt.xlabel(\"Current Readings\")\n",
    "plt.ylabel(\"count\")\n",
    "plt.show()\n"
   ]
  },
  {
   "cell_type": "markdown",
   "id": "cbae395e",
   "metadata": {},
   "source": [
    "Findings:\n",
    "<li>It can be seen that 0 to 120 is the normal range.</li>\n",
    "<li>Values > 200 are outliers and considered anomaly </li>\n",
    "<li> The distribution is Right Skewed (Positive Skewness)</li>\n",
    "    \n",
    "    "
   ]
  },
  {
   "cell_type": "markdown",
   "id": "2d2413d8",
   "metadata": {},
   "source": [
    "## 4. Feature Scaling"
   ]
  },
  {
   "cell_type": "code",
   "execution_count": 19,
   "id": "749991ef",
   "metadata": {},
   "outputs": [
    {
     "data": {
      "text/plain": [
       "array([[0.000000e+00],\n",
       "       [1.000000e-01],\n",
       "       [2.000000e-01],\n",
       "       ...,\n",
       "       [1.202066e+02],\n",
       "       [2.481194e+02],\n",
       "       [2.481195e+02]])"
      ]
     },
     "execution_count": 19,
     "metadata": {},
     "output_type": "execute_result"
    }
   ],
   "source": [
    "# In order to fit data to the model, it has to be reshaped.\n",
    "x = np.asarray(df['current_readings'])\n",
    "x = x.reshape(-1,1)\n",
    "x"
   ]
  },
  {
   "cell_type": "code",
   "execution_count": 20,
   "id": "0bb368c9",
   "metadata": {},
   "outputs": [
    {
     "data": {
      "text/plain": [
       "array([[-0.6537871 ],\n",
       "       [-0.65253874],\n",
       "       [-0.65129038],\n",
       "       ...,\n",
       "       [ 0.8468228 ],\n",
       "       [ 2.44363373],\n",
       "       [ 2.44363498]])"
      ]
     },
     "execution_count": 20,
     "metadata": {},
     "output_type": "execute_result"
    }
   ],
   "source": [
    "# Perform Standard Scaling to restrict models from being biased towards features having higher / lower magnitude values.\n",
    "sc = StandardScaler()\n",
    "x = sc.fit_transform(x)\n",
    "x"
   ]
  },
  {
   "cell_type": "code",
   "execution_count": 21,
   "id": "630780d8",
   "metadata": {},
   "outputs": [
    {
     "data": {
      "text/plain": [
       "(13593, 1)"
      ]
     },
     "execution_count": 21,
     "metadata": {},
     "output_type": "execute_result"
    }
   ],
   "source": [
    "x.shape"
   ]
  },
  {
   "cell_type": "markdown",
   "id": "dfd3749d",
   "metadata": {},
   "source": [
    "The data is now pre-processed and ready for modelling."
   ]
  },
  {
   "cell_type": "markdown",
   "id": "b78d3cb2",
   "metadata": {},
   "source": [
    "## 5. Model Building"
   ]
  },
  {
   "cell_type": "markdown",
   "id": "2c88e200",
   "metadata": {},
   "source": [
    "Apprach for building model:\n",
    "<li>As there are no target labels, this is an <b>Unsupervised machine learning </b>problem. </li>\n",
    "<li>Fit the data to KMeans Clustering algorithm and split the data into 2 clusters. </li>\n",
    "<li>The cluster value can be stored as a target column and now our problem becomes a Classification type.</li>\n",
    "<li>So use the whole dataset along with target column to train and build a classification model (Random Forest Classifier)</li>"
   ]
  },
  {
   "cell_type": "code",
   "execution_count": 22,
   "id": "d9eeebf3",
   "metadata": {},
   "outputs": [],
   "source": [
    "## kmeans clustering algorithm \n",
    "\n",
    "kmeans=KMeans(n_clusters=2, init='k-means++', random_state=0)\n",
    "y = kmeans.fit_predict(x)"
   ]
  },
  {
   "cell_type": "code",
   "execution_count": 23,
   "id": "734b44b1",
   "metadata": {},
   "outputs": [
    {
     "data": {
      "text/plain": [
       "array([0, 0, 0, ..., 1, 1, 1])"
      ]
     },
     "execution_count": 23,
     "metadata": {},
     "output_type": "execute_result"
    }
   ],
   "source": [
    "kmeans.labels_"
   ]
  },
  {
   "cell_type": "code",
   "execution_count": 24,
   "id": "0f3c9295",
   "metadata": {},
   "outputs": [
    {
     "data": {
      "text/plain": [
       "array([[-0.64743859],\n",
       "       [ 1.3000349 ]])"
      ]
     },
     "execution_count": 24,
     "metadata": {},
     "output_type": "execute_result"
    }
   ],
   "source": [
    "kmeans.cluster_centers_"
   ]
  },
  {
   "cell_type": "code",
   "execution_count": 25,
   "id": "da4c29a6",
   "metadata": {},
   "outputs": [
    {
     "data": {
      "text/html": [
       "<div>\n",
       "<style scoped>\n",
       "    .dataframe tbody tr th:only-of-type {\n",
       "        vertical-align: middle;\n",
       "    }\n",
       "\n",
       "    .dataframe tbody tr th {\n",
       "        vertical-align: top;\n",
       "    }\n",
       "\n",
       "    .dataframe thead th {\n",
       "        text-align: right;\n",
       "    }\n",
       "</style>\n",
       "<table border=\"1\" class=\"dataframe\">\n",
       "  <thead>\n",
       "    <tr style=\"text-align: right;\">\n",
       "      <th></th>\n",
       "      <th>current_readings</th>\n",
       "      <th>labels</th>\n",
       "    </tr>\n",
       "  </thead>\n",
       "  <tbody>\n",
       "    <tr>\n",
       "      <th>1</th>\n",
       "      <td>0.0000</td>\n",
       "      <td>0</td>\n",
       "    </tr>\n",
       "    <tr>\n",
       "      <th>2</th>\n",
       "      <td>0.1000</td>\n",
       "      <td>0</td>\n",
       "    </tr>\n",
       "    <tr>\n",
       "      <th>3</th>\n",
       "      <td>0.2000</td>\n",
       "      <td>0</td>\n",
       "    </tr>\n",
       "    <tr>\n",
       "      <th>4</th>\n",
       "      <td>0.3000</td>\n",
       "      <td>0</td>\n",
       "    </tr>\n",
       "    <tr>\n",
       "      <th>5</th>\n",
       "      <td>0.4000</td>\n",
       "      <td>0</td>\n",
       "    </tr>\n",
       "    <tr>\n",
       "      <th>...</th>\n",
       "      <td>...</td>\n",
       "      <td>...</td>\n",
       "    </tr>\n",
       "    <tr>\n",
       "      <th>13590</th>\n",
       "      <td>120.2065</td>\n",
       "      <td>1</td>\n",
       "    </tr>\n",
       "    <tr>\n",
       "      <th>13591</th>\n",
       "      <td>248.1193</td>\n",
       "      <td>1</td>\n",
       "    </tr>\n",
       "    <tr>\n",
       "      <th>13592</th>\n",
       "      <td>120.2066</td>\n",
       "      <td>1</td>\n",
       "    </tr>\n",
       "    <tr>\n",
       "      <th>13593</th>\n",
       "      <td>248.1194</td>\n",
       "      <td>1</td>\n",
       "    </tr>\n",
       "    <tr>\n",
       "      <th>13594</th>\n",
       "      <td>248.1195</td>\n",
       "      <td>1</td>\n",
       "    </tr>\n",
       "  </tbody>\n",
       "</table>\n",
       "<p>13593 rows × 2 columns</p>\n",
       "</div>"
      ],
      "text/plain": [
       "       current_readings  labels\n",
       "1                0.0000       0\n",
       "2                0.1000       0\n",
       "3                0.2000       0\n",
       "4                0.3000       0\n",
       "5                0.4000       0\n",
       "...                 ...     ...\n",
       "13590          120.2065       1\n",
       "13591          248.1193       1\n",
       "13592          120.2066       1\n",
       "13593          248.1194       1\n",
       "13594          248.1195       1\n",
       "\n",
       "[13593 rows x 2 columns]"
      ]
     },
     "execution_count": 25,
     "metadata": {},
     "output_type": "execute_result"
    }
   ],
   "source": [
    "# append the predicted values to a new column\n",
    "\n",
    "df[\"labels\"]=kmeans.labels_\n",
    "df"
   ]
  },
  {
   "cell_type": "markdown",
   "id": "f2c1835b",
   "metadata": {},
   "source": [
    "The KMeans model has grouped the data into clusters 0 and 1.<br>\n",
    "It can be interpreted as :\n",
    "> 0 = no (There is no anomaly) ; 1= yes (This is an anomaly)\n",
    "\n"
   ]
  },
  {
   "cell_type": "code",
   "execution_count": 26,
   "id": "b9b91d2c",
   "metadata": {},
   "outputs": [
    {
     "data": {
      "text/html": [
       "<div>\n",
       "<style scoped>\n",
       "    .dataframe tbody tr th:only-of-type {\n",
       "        vertical-align: middle;\n",
       "    }\n",
       "\n",
       "    .dataframe tbody tr th {\n",
       "        vertical-align: top;\n",
       "    }\n",
       "\n",
       "    .dataframe thead th {\n",
       "        text-align: right;\n",
       "    }\n",
       "</style>\n",
       "<table border=\"1\" class=\"dataframe\">\n",
       "  <thead>\n",
       "    <tr style=\"text-align: right;\">\n",
       "      <th></th>\n",
       "      <th>current_readings</th>\n",
       "      <th>labels</th>\n",
       "    </tr>\n",
       "  </thead>\n",
       "  <tbody>\n",
       "    <tr>\n",
       "      <th>1</th>\n",
       "      <td>0.0000</td>\n",
       "      <td>0</td>\n",
       "    </tr>\n",
       "    <tr>\n",
       "      <th>2</th>\n",
       "      <td>0.1000</td>\n",
       "      <td>0</td>\n",
       "    </tr>\n",
       "    <tr>\n",
       "      <th>3</th>\n",
       "      <td>0.2000</td>\n",
       "      <td>0</td>\n",
       "    </tr>\n",
       "    <tr>\n",
       "      <th>4</th>\n",
       "      <td>0.3000</td>\n",
       "      <td>0</td>\n",
       "    </tr>\n",
       "    <tr>\n",
       "      <th>5</th>\n",
       "      <td>0.4000</td>\n",
       "      <td>0</td>\n",
       "    </tr>\n",
       "    <tr>\n",
       "      <th>...</th>\n",
       "      <td>...</td>\n",
       "      <td>...</td>\n",
       "    </tr>\n",
       "    <tr>\n",
       "      <th>13590</th>\n",
       "      <td>120.2065</td>\n",
       "      <td>1</td>\n",
       "    </tr>\n",
       "    <tr>\n",
       "      <th>13591</th>\n",
       "      <td>248.1193</td>\n",
       "      <td>1</td>\n",
       "    </tr>\n",
       "    <tr>\n",
       "      <th>13592</th>\n",
       "      <td>120.2066</td>\n",
       "      <td>1</td>\n",
       "    </tr>\n",
       "    <tr>\n",
       "      <th>13593</th>\n",
       "      <td>248.1194</td>\n",
       "      <td>1</td>\n",
       "    </tr>\n",
       "    <tr>\n",
       "      <th>13594</th>\n",
       "      <td>248.1195</td>\n",
       "      <td>1</td>\n",
       "    </tr>\n",
       "  </tbody>\n",
       "</table>\n",
       "<p>13593 rows × 2 columns</p>\n",
       "</div>"
      ],
      "text/plain": [
       "       current_readings  labels\n",
       "1                0.0000       0\n",
       "2                0.1000       0\n",
       "3                0.2000       0\n",
       "4                0.3000       0\n",
       "5                0.4000       0\n",
       "...                 ...     ...\n",
       "13590          120.2065       1\n",
       "13591          248.1193       1\n",
       "13592          120.2066       1\n",
       "13593          248.1194       1\n",
       "13594          248.1195       1\n",
       "\n",
       "[13593 rows x 2 columns]"
      ]
     },
     "execution_count": 26,
     "metadata": {},
     "output_type": "execute_result"
    }
   ],
   "source": [
    "# making a copy of df\n",
    "clustered_df = df.copy()\n",
    "clustered_df"
   ]
  },
  {
   "cell_type": "code",
   "execution_count": 29,
   "id": "41431167",
   "metadata": {},
   "outputs": [
    {
     "data": {
      "text/html": [
       "<div>\n",
       "<style scoped>\n",
       "    .dataframe tbody tr th:only-of-type {\n",
       "        vertical-align: middle;\n",
       "    }\n",
       "\n",
       "    .dataframe tbody tr th {\n",
       "        vertical-align: top;\n",
       "    }\n",
       "\n",
       "    .dataframe thead th {\n",
       "        text-align: right;\n",
       "    }\n",
       "</style>\n",
       "<table border=\"1\" class=\"dataframe\">\n",
       "  <thead>\n",
       "    <tr style=\"text-align: right;\">\n",
       "      <th></th>\n",
       "      <th>current_readings</th>\n",
       "      <th>anomaly</th>\n",
       "    </tr>\n",
       "  </thead>\n",
       "  <tbody>\n",
       "    <tr>\n",
       "      <th>1</th>\n",
       "      <td>0.0000</td>\n",
       "      <td>no</td>\n",
       "    </tr>\n",
       "    <tr>\n",
       "      <th>2</th>\n",
       "      <td>0.1000</td>\n",
       "      <td>no</td>\n",
       "    </tr>\n",
       "    <tr>\n",
       "      <th>3</th>\n",
       "      <td>0.2000</td>\n",
       "      <td>no</td>\n",
       "    </tr>\n",
       "    <tr>\n",
       "      <th>4</th>\n",
       "      <td>0.3000</td>\n",
       "      <td>no</td>\n",
       "    </tr>\n",
       "    <tr>\n",
       "      <th>5</th>\n",
       "      <td>0.4000</td>\n",
       "      <td>no</td>\n",
       "    </tr>\n",
       "    <tr>\n",
       "      <th>...</th>\n",
       "      <td>...</td>\n",
       "      <td>...</td>\n",
       "    </tr>\n",
       "    <tr>\n",
       "      <th>13590</th>\n",
       "      <td>120.2065</td>\n",
       "      <td>yes</td>\n",
       "    </tr>\n",
       "    <tr>\n",
       "      <th>13591</th>\n",
       "      <td>248.1193</td>\n",
       "      <td>yes</td>\n",
       "    </tr>\n",
       "    <tr>\n",
       "      <th>13592</th>\n",
       "      <td>120.2066</td>\n",
       "      <td>yes</td>\n",
       "    </tr>\n",
       "    <tr>\n",
       "      <th>13593</th>\n",
       "      <td>248.1194</td>\n",
       "      <td>yes</td>\n",
       "    </tr>\n",
       "    <tr>\n",
       "      <th>13594</th>\n",
       "      <td>248.1195</td>\n",
       "      <td>yes</td>\n",
       "    </tr>\n",
       "  </tbody>\n",
       "</table>\n",
       "<p>13593 rows × 2 columns</p>\n",
       "</div>"
      ],
      "text/plain": [
       "       current_readings anomaly\n",
       "1                0.0000      no\n",
       "2                0.1000      no\n",
       "3                0.2000      no\n",
       "4                0.3000      no\n",
       "5                0.4000      no\n",
       "...                 ...     ...\n",
       "13590          120.2065     yes\n",
       "13591          248.1193     yes\n",
       "13592          120.2066     yes\n",
       "13593          248.1194     yes\n",
       "13594          248.1195     yes\n",
       "\n",
       "[13593 rows x 2 columns]"
      ]
     },
     "execution_count": 29,
     "metadata": {},
     "output_type": "execute_result"
    }
   ],
   "source": [
    "# For easy readability of dataset, change the target column to categorical \n",
    "clustered_df[\"anomaly\"] = \"no\"\n",
    "clustered_df[\"anomaly\"] = np.where(clustered_df[\"labels\"] == 1, \"yes\", clustered_df[\"anomaly\"])                         \n",
    "clustered_df.drop(\"labels\",axis=1,inplace=True)\n",
    "clustered_df\n"
   ]
  },
  {
   "cell_type": "code",
   "execution_count": 30,
   "id": "8f3902e5",
   "metadata": {},
   "outputs": [
    {
     "data": {
      "text/html": [
       "<div>\n",
       "<style scoped>\n",
       "    .dataframe tbody tr th:only-of-type {\n",
       "        vertical-align: middle;\n",
       "    }\n",
       "\n",
       "    .dataframe tbody tr th {\n",
       "        vertical-align: top;\n",
       "    }\n",
       "\n",
       "    .dataframe thead th {\n",
       "        text-align: right;\n",
       "    }\n",
       "</style>\n",
       "<table border=\"1\" class=\"dataframe\">\n",
       "  <thead>\n",
       "    <tr style=\"text-align: right;\">\n",
       "      <th></th>\n",
       "      <th>current_readings</th>\n",
       "      <th>anomaly</th>\n",
       "    </tr>\n",
       "  </thead>\n",
       "  <tbody>\n",
       "    <tr>\n",
       "      <th>1</th>\n",
       "      <td>0.0</td>\n",
       "      <td>no</td>\n",
       "    </tr>\n",
       "    <tr>\n",
       "      <th>2</th>\n",
       "      <td>0.1</td>\n",
       "      <td>no</td>\n",
       "    </tr>\n",
       "    <tr>\n",
       "      <th>3</th>\n",
       "      <td>0.2</td>\n",
       "      <td>no</td>\n",
       "    </tr>\n",
       "    <tr>\n",
       "      <th>4</th>\n",
       "      <td>0.3</td>\n",
       "      <td>no</td>\n",
       "    </tr>\n",
       "    <tr>\n",
       "      <th>5</th>\n",
       "      <td>0.4</td>\n",
       "      <td>no</td>\n",
       "    </tr>\n",
       "  </tbody>\n",
       "</table>\n",
       "</div>"
      ],
      "text/plain": [
       "   current_readings anomaly\n",
       "1               0.0      no\n",
       "2               0.1      no\n",
       "3               0.2      no\n",
       "4               0.3      no\n",
       "5               0.4      no"
      ]
     },
     "execution_count": 30,
     "metadata": {},
     "output_type": "execute_result"
    }
   ],
   "source": [
    "clustered_df.head()"
   ]
  },
  {
   "cell_type": "code",
   "execution_count": 31,
   "id": "9556c9f0",
   "metadata": {},
   "outputs": [
    {
     "data": {
      "text/html": [
       "<div>\n",
       "<style scoped>\n",
       "    .dataframe tbody tr th:only-of-type {\n",
       "        vertical-align: middle;\n",
       "    }\n",
       "\n",
       "    .dataframe tbody tr th {\n",
       "        vertical-align: top;\n",
       "    }\n",
       "\n",
       "    .dataframe thead th {\n",
       "        text-align: right;\n",
       "    }\n",
       "</style>\n",
       "<table border=\"1\" class=\"dataframe\">\n",
       "  <thead>\n",
       "    <tr style=\"text-align: right;\">\n",
       "      <th></th>\n",
       "      <th>current_readings</th>\n",
       "      <th>anomaly</th>\n",
       "    </tr>\n",
       "  </thead>\n",
       "  <tbody>\n",
       "    <tr>\n",
       "      <th>13590</th>\n",
       "      <td>120.2065</td>\n",
       "      <td>yes</td>\n",
       "    </tr>\n",
       "    <tr>\n",
       "      <th>13591</th>\n",
       "      <td>248.1193</td>\n",
       "      <td>yes</td>\n",
       "    </tr>\n",
       "    <tr>\n",
       "      <th>13592</th>\n",
       "      <td>120.2066</td>\n",
       "      <td>yes</td>\n",
       "    </tr>\n",
       "    <tr>\n",
       "      <th>13593</th>\n",
       "      <td>248.1194</td>\n",
       "      <td>yes</td>\n",
       "    </tr>\n",
       "    <tr>\n",
       "      <th>13594</th>\n",
       "      <td>248.1195</td>\n",
       "      <td>yes</td>\n",
       "    </tr>\n",
       "  </tbody>\n",
       "</table>\n",
       "</div>"
      ],
      "text/plain": [
       "       current_readings anomaly\n",
       "13590          120.2065     yes\n",
       "13591          248.1193     yes\n",
       "13592          120.2066     yes\n",
       "13593          248.1194     yes\n",
       "13594          248.1195     yes"
      ]
     },
     "execution_count": 31,
     "metadata": {},
     "output_type": "execute_result"
    }
   ],
   "source": [
    "clustered_df.tail()"
   ]
  },
  {
   "cell_type": "code",
   "execution_count": 32,
   "id": "53b2b962",
   "metadata": {},
   "outputs": [],
   "source": [
    "# export the dataset to a csv file\n",
    "\n",
    "clustered_df.to_csv(\"C:/Users/Kalpagam/udemy_bootcamp/ml_projects/anomaly_detection/predictions/predicted.csv\")"
   ]
  },
  {
   "cell_type": "markdown",
   "id": "6914d5dd",
   "metadata": {},
   "source": [
    "Now, readings which are outliers or anomalies are indicated as <b>yes</b> in the \"anomaly\" column."
   ]
  },
  {
   "cell_type": "markdown",
   "id": "27312c2e",
   "metadata": {},
   "source": [
    "Now, the problem has reduced to a <b>classification problem</b>"
   ]
  },
  {
   "cell_type": "markdown",
   "id": "6b90b97b",
   "metadata": {},
   "source": [
    "#### Data preprocessing"
   ]
  },
  {
   "cell_type": "code",
   "execution_count": 35,
   "id": "78bc506d",
   "metadata": {},
   "outputs": [
    {
     "data": {
      "text/plain": [
       "((10194,), (3399,), (10194,), (3399,))"
      ]
     },
     "execution_count": 35,
     "metadata": {},
     "output_type": "execute_result"
    }
   ],
   "source": [
    "## split the dataset as train and test\n",
    "\n",
    "from sklearn.model_selection import train_test_split\n",
    "x_train,x_test,y_train,y_test = train_test_split(df[\"current_readings\"],df[\"labels\"])\n",
    "x_train.shape, x_test.shape,y_train.shape,y_test.shape"
   ]
  },
  {
   "cell_type": "code",
   "execution_count": 44,
   "id": "fc4a4d0f",
   "metadata": {},
   "outputs": [
    {
     "data": {
      "text/plain": [
       "((10194, 1), (10194, 1), (3399, 1), (3399, 1))"
      ]
     },
     "execution_count": 44,
     "metadata": {},
     "output_type": "execute_result"
    }
   ],
   "source": [
    "# reshape\n",
    "\n",
    "x_train=np.asarray(x_train).reshape(-1,1)\n",
    "y_train=np.asarray(y_train).reshape(-1,1)\n",
    "x_test=np.asarray(x_test).reshape(-1,1)\n",
    "y_test=np.asarray(y_test).reshape(-1,1)\n",
    "x_train.shape,y_train.shape,x_test.shape,y_test.shape"
   ]
  },
  {
   "cell_type": "code",
   "execution_count": 42,
   "id": "44da7886",
   "metadata": {},
   "outputs": [
    {
     "name": "stderr",
     "output_type": "stream",
     "text": [
      "C:\\Users\\Kalpagam\\AppData\\Local\\Temp\\ipykernel_15376\\1544301963.py:9: DataConversionWarning: A column-vector y was passed when a 1d array was expected. Please change the shape of y to (n_samples,), for example using ravel().\n",
      "  model.fit(x_train,y_train)\n"
     ]
    },
    {
     "data": {
      "text/plain": [
       "RandomForestClassifier(n_jobs=-1)"
      ]
     },
     "execution_count": 42,
     "metadata": {},
     "output_type": "execute_result"
    }
   ],
   "source": [
    "# classification model building\n",
    "\n",
    "from sklearn.ensemble import RandomForestClassifier\n",
    "\n",
    "# Instantiate model\n",
    "model = RandomForestClassifier(n_jobs=-1)\n",
    "\n",
    "# Fit the model\n",
    "model.fit(x_train,y_train)"
   ]
  },
  {
   "cell_type": "code",
   "execution_count": 45,
   "id": "c7362dc6",
   "metadata": {},
   "outputs": [],
   "source": [
    "y_pred = model.predict(x_test)"
   ]
  },
  {
   "cell_type": "code",
   "execution_count": 46,
   "id": "94f58ff6",
   "metadata": {},
   "outputs": [
    {
     "data": {
      "text/plain": [
       "array([0, 1, 0, ..., 0, 0, 0])"
      ]
     },
     "execution_count": 46,
     "metadata": {},
     "output_type": "execute_result"
    }
   ],
   "source": [
    "y_pred"
   ]
  },
  {
   "cell_type": "markdown",
   "id": "5f277971",
   "metadata": {},
   "source": [
    "## 6.  Model Evaluation"
   ]
  },
  {
   "cell_type": "code",
   "execution_count": 48,
   "id": "9cda75e1",
   "metadata": {},
   "outputs": [
    {
     "data": {
      "text/plain": [
       "1.0"
      ]
     },
     "execution_count": 48,
     "metadata": {},
     "output_type": "execute_result"
    }
   ],
   "source": [
    "model.score(x_test,y_test)"
   ]
  },
  {
   "cell_type": "code",
   "execution_count": 49,
   "id": "01e42404",
   "metadata": {},
   "outputs": [
    {
     "name": "stdout",
     "output_type": "stream",
     "text": [
      "[[2309    0]\n",
      " [   0 1090]]\n"
     ]
    }
   ],
   "source": [
    "from sklearn.metrics import confusion_matrix, classification_report\n",
    "\n",
    "print(confusion_matrix(y_test,y_pred))"
   ]
  },
  {
   "cell_type": "code",
   "execution_count": 54,
   "id": "cd0f190a",
   "metadata": {},
   "outputs": [
    {
     "name": "stdout",
     "output_type": "stream",
     "text": [
      "              precision    recall  f1-score   support\n",
      "\n",
      "           0       1.00      1.00      1.00      2309\n",
      "           1       1.00      1.00      1.00      1090\n",
      "\n",
      "    accuracy                           1.00      3399\n",
      "   macro avg       1.00      1.00      1.00      3399\n",
      "weighted avg       1.00      1.00      1.00      3399\n",
      "\n"
     ]
    }
   ],
   "source": [
    "print(classification_report(y_test,y_pred))"
   ]
  },
  {
   "cell_type": "markdown",
   "id": "7b0629e8",
   "metadata": {},
   "source": [
    "### 7. Save the model to a pickle file\n",
    "\n",
    "The model is saved to a pickle file so that it can be imported and reused"
   ]
  },
  {
   "cell_type": "code",
   "execution_count": 57,
   "id": "284299ef",
   "metadata": {},
   "outputs": [],
   "source": [
    "import pickle\n",
    "file = open('C:/Users/Kalpagam/udemy_bootcamp/ml_projects/anomaly_detection/trained_model.pkl','wb')\n",
    "pickle.dump(model,file)"
   ]
  },
  {
   "cell_type": "code",
   "execution_count": 58,
   "id": "e5d6993d",
   "metadata": {},
   "outputs": [],
   "source": [
    "model = open('C:/Users/Kalpagam/udemy_bootcamp/ml_projects/anomaly_detection/trained_model.pkl','rb')\n",
    "trained_model = pickle.load(model)"
   ]
  },
  {
   "cell_type": "code",
   "execution_count": 66,
   "id": "e34a26ad",
   "metadata": {},
   "outputs": [
    {
     "data": {
      "text/plain": [
       "(75, 1)"
      ]
     },
     "execution_count": 66,
     "metadata": {},
     "output_type": "execute_result"
    }
   ],
   "source": [
    "sample_xtest_values = np.arange(0,150,2).reshape(-1,1)\n",
    "sample_xtest_values.shape"
   ]
  },
  {
   "cell_type": "markdown",
   "id": "f1592152",
   "metadata": {},
   "source": [
    "giving some random test values to see if it classifies it"
   ]
  },
  {
   "cell_type": "code",
   "execution_count": 67,
   "id": "f3ca9fea",
   "metadata": {},
   "outputs": [
    {
     "name": "stdout",
     "output_type": "stream",
     "text": [
      "Result: [0 0 0 0 0 0 0 0 0 0 0 0 0 0 0 0 0 0 0 0 0 0 0 0 0 0 0 0 0 0 0 1 1 1 1 1 1\n",
      " 1 1 1 1 1 1 1 1 1 1 1 1 1 1 1 1 1 1 1 1 1 1 1 1 1 1 1 1 1 1 1 1 1 1 1 1 1\n",
      " 1]\n"
     ]
    }
   ],
   "source": [
    "result = trained_model.predict(sample_xtest_values)\n",
    "print(\"Result:\",result)"
   ]
  }
 ],
 "metadata": {
  "kernelspec": {
   "display_name": "Python 3 (ipykernel)",
   "language": "python",
   "name": "python3"
  },
  "language_info": {
   "codemirror_mode": {
    "name": "ipython",
    "version": 3
   },
   "file_extension": ".py",
   "mimetype": "text/x-python",
   "name": "python",
   "nbconvert_exporter": "python",
   "pygments_lexer": "ipython3",
   "version": "3.9.12"
  }
 },
 "nbformat": 4,
 "nbformat_minor": 5
}
